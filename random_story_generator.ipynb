{
  "nbformat": 4,
  "nbformat_minor": 0,
  "metadata": {
    "colab": {
      "provenance": [],
      "authorship_tag": "ABX9TyMBaSHKVXMK0HeVTfUb+bgP",
      "include_colab_link": true
    },
    "kernelspec": {
      "name": "python3",
      "display_name": "Python 3"
    },
    "language_info": {
      "name": "python"
    }
  },
  "cells": [
    {
      "cell_type": "markdown",
      "metadata": {
        "id": "view-in-github",
        "colab_type": "text"
      },
      "source": [
        "<a href=\"https://colab.research.google.com/github/Lavisha-Agrawal31/Random-Story-Generator./blob/main/random_story_generator.ipynb\" target=\"_parent\"><img src=\"https://colab.research.google.com/assets/colab-badge.svg\" alt=\"Open In Colab\"/></a>"
      ]
    },
    {
      "cell_type": "code",
      "execution_count": 1,
      "metadata": {
        "colab": {
          "base_uri": "https://localhost:8080/"
        },
        "id": "_sg9LXxujYG6",
        "outputId": "52817960-22c6-4b94-9c2a-137b527a1e09"
      },
      "outputs": [
        {
          "output_type": "stream",
          "name": "stdout",
          "text": [
            "In the 20 BC there lived a farmer  Once in a morning  he was passing by  the garden  he saw a young lady  who seemed very old and feeble  digging a well on roadside \n"
          ]
        }
      ],
      "source": [
        "import random\n",
        "Sentence_starter = [\"About 100 years ago\",\"In the 20 BC\",\"Once upon a time\"]\n",
        "character = [\" there lived a king. \",\" there was a man named Jack \",\" there lived a farmer \"]\n",
        "time=[\" One day \",\" Once in a morning \"]\n",
        "story_plot=[\" he was passing by \",\" he was going for a picnic to \"]\n",
        "place=[\" the mountains \",\" the garden \"]\n",
        "second_character=[' he saw a man ',' he saw a young lady ']\n",
        "age=[\" who seemed to be in late 20's \",\" who seemed very old and feeble \"]\n",
        "work=[\" searching something \",\" digging a well on roadside \"]\n",
        "print(random.choice(Sentence_starter) + random.choice(character) + random.choice(time) + random.choice(story_plot) +random.choice(place)\n",
        " + random.choice(second_character) + random.choice(age) + random.choice(work))"
      ]
    }
  ]
}